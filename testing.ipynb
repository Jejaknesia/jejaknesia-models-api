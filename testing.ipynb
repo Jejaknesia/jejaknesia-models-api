{
 "cells": [
  {
   "cell_type": "code",
   "execution_count": 32,
   "metadata": {},
   "outputs": [],
   "source": [
    "import tensorflow as tf\n",
    "import numpy as np\n",
    "\n",
    "interpreter = tf.lite.Interpreter(model_path=\"converted_model.tflite\")\n",
    "def recommend(textinput):\n",
    "    interpreter.allocate_tensors()\n",
    "\n",
    "    # get input and output tensors\n",
    "    input_details = interpreter.get_input_details()\n",
    "    output_details = interpreter.get_output_details()\n",
    "\n",
    "    # print(input_details)\n",
    "\n",
    "    interpreter.set_tensor(input_details[0]['index'], np.array(textinput))\n",
    "    # interpreter.set_tensor(input_details[0]['index'], np.array([\"Pfizer\"]))\n",
    "\n",
    "    interpreter.invoke()\n",
    "\n",
    "    output_data = interpreter.get_tensor(output_details[1]['index'])\n",
    "    arr = []\n",
    "    for something in output_data[0]:\n",
    "        arr.append(something.decode('utf-8'))\n",
    "    return arr"
   ]
  },
  {
   "cell_type": "code",
   "execution_count": null,
   "metadata": {},
   "outputs": [],
   "source": [
    "test = recommend(\"tempat bersejarah\")"
   ]
  },
  {
   "cell_type": "code",
   "execution_count": 31,
   "metadata": {},
   "outputs": [
    {
     "data": {
      "text/plain": [
       "['Taman Laut Taka Bonerate',\n",
       " 'Air Terjun Sipiso Piso',\n",
       " 'Gunung Mahawu',\n",
       " 'Kebun Strawberry Tongkoh']"
      ]
     },
     "execution_count": 31,
     "metadata": {},
     "output_type": "execute_result"
    }
   ],
   "source": [
    "test"
   ]
  },
  {
   "cell_type": "code",
   "execution_count": 17,
   "metadata": {},
   "outputs": [
    {
     "name": "stdout",
     "output_type": "stream",
     "text": [
      "['hello' 'world']\n"
     ]
    }
   ],
   "source": [
    "import numpy as np\n",
    "\n",
    "test = np.array([b'hello', b'world'])\n",
    "decoded = np.char.decode(test).astype(str)\n",
    "print(decoded)"
   ]
  },
  {
   "cell_type": "code",
   "execution_count": 56,
   "metadata": {},
   "outputs": [
    {
     "data": {
      "text/plain": [
       "b'Air Terjun Salo Merunge'"
      ]
     },
     "execution_count": 56,
     "metadata": {},
     "output_type": "execute_result"
    }
   ],
   "source": [
    "name[0].numpy().tolist()[0]"
   ]
  },
  {
   "cell_type": "code",
   "execution_count": 38,
   "metadata": {},
   "outputs": [
    {
     "data": {
      "text/plain": [
       "tensorflow.python.framework.ops.EagerTensor"
      ]
     },
     "execution_count": 38,
     "metadata": {},
     "output_type": "execute_result"
    }
   ],
   "source": [
    "type(name[0])"
   ]
  },
  {
   "cell_type": "code",
   "execution_count": 51,
   "metadata": {},
   "outputs": [
    {
     "name": "stdout",
     "output_type": "stream",
     "text": [
      "Recommendations: [[b'Air Terjun Salo Merunge' b'Wisata Danau Raja' b'Tanjung Labora'\n",
      "  b'Salju Panas Dolok Tinggi Raja']\n",
      " [b'Taman Laut Taka Bonerate' b'Pusat Kerajinan Perahu Phinisi'\n",
      "  b'Funland Mickey Holiday' b'Wakatobi']\n",
      " [b'Taman Laut Taka Bonerate' b'Air Terjun Sipiso Piso' b'Gunung Mahawu'\n",
      "  b'Kebun Strawberry Tongkoh']]\n"
     ]
    }
   ],
   "source": [
    "# Load it back; can also be done in TensorFlow Serving.\n",
    "loaded = tf.saved_model.load(\"export\")\n",
    "\n",
    "# Pass a user id in, get top predicted vaccines\n",
    "scores, name = loaded([\"Ruang Terbuka\", \"Aktivitas Air\", \"Pantai\"])\n",
    "\n",
    "print(f\"Recommendations: {name}\")"
   ]
  },
  {
   "cell_type": "code",
   "execution_count": 55,
   "metadata": {},
   "outputs": [
    {
     "data": {
      "text/plain": [
       "tensorflow.python.framework.ops.EagerTensor"
      ]
     },
     "execution_count": 55,
     "metadata": {},
     "output_type": "execute_result"
    }
   ],
   "source": [
    "type(something)"
   ]
  },
  {
   "cell_type": "code",
   "execution_count": 59,
   "metadata": {},
   "outputs": [
    {
     "data": {
      "text/plain": [
       "b'Air Terjun Salo Merunge'"
      ]
     },
     "execution_count": 59,
     "metadata": {},
     "output_type": "execute_result"
    }
   ],
   "source": [
    "something.numpy()"
   ]
  },
  {
   "cell_type": "code",
   "execution_count": 60,
   "metadata": {},
   "outputs": [
    {
     "name": "stdout",
     "output_type": "stream",
     "text": [
      "tf.Tensor(b'Air Terjun Salo Merunge', shape=(), dtype=string)\n",
      "tf.Tensor(b'Wisata Danau Raja', shape=(), dtype=string)\n",
      "tf.Tensor(b'Tanjung Labora', shape=(), dtype=string)\n",
      "tf.Tensor(b'Salju Panas Dolok Tinggi Raja', shape=(), dtype=string)\n"
     ]
    }
   ],
   "source": [
    "arr = []\n",
    "for something in name[0]:\n",
    "    print(something)\n",
    "    data = something.numpy()\n",
    "    arr.append(data.decode('utf-8'))"
   ]
  },
  {
   "cell_type": "code",
   "execution_count": 61,
   "metadata": {},
   "outputs": [
    {
     "data": {
      "text/plain": [
       "['Air Terjun Salo Merunge',\n",
       " 'Wisata Danau Raja',\n",
       " 'Tanjung Labora',\n",
       " 'Salju Panas Dolok Tinggi Raja']"
      ]
     },
     "execution_count": 61,
     "metadata": {},
     "output_type": "execute_result"
    }
   ],
   "source": [
    "arr"
   ]
  },
  {
   "cell_type": "code",
   "execution_count": 35,
   "metadata": {},
   "outputs": [
    {
     "data": {
      "text/plain": [
       "<tf.Tensor: shape=(3, 4), dtype=float32, numpy=\n",
       "array([[4.1015677 , 4.0990415 , 4.0786986 , 4.07307   ],\n",
       "       [8.133902  , 2.4088988 , 2.342031  , 2.2000859 ],\n",
       "       [0.07922371, 0.02752671, 0.02642149, 0.02356271]], dtype=float32)>"
      ]
     },
     "execution_count": 35,
     "metadata": {},
     "output_type": "execute_result"
    }
   ],
   "source": [
    "scores"
   ]
  }
 ],
 "metadata": {
  "kernelspec": {
   "display_name": "Python 3 (ipykernel)",
   "language": "python",
   "name": "python3"
  },
  "language_info": {
   "codemirror_mode": {
    "name": "ipython",
    "version": 3
   },
   "file_extension": ".py",
   "mimetype": "text/x-python",
   "name": "python",
   "nbconvert_exporter": "python",
   "pygments_lexer": "ipython3",
   "version": "3.10.4"
  },
  "orig_nbformat": 4
 },
 "nbformat": 4,
 "nbformat_minor": 2
}
